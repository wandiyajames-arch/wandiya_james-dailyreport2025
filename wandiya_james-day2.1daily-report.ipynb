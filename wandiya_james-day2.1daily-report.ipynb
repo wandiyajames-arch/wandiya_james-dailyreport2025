{
 "cells": [
  {
   "cell_type": "markdown",
   "id": "afe9a277",
   "metadata": {},
   "source": [
    "### Exercise 1:\n",
    "Declare a variable `x` and assign it the value `10`.\n"
   ]
  },
  {
   "cell_type": "code",
   "execution_count": 1,
   "id": "a2eed5a2",
   "metadata": {},
   "outputs": [],
   "source": [
    "x = 10"
   ]
  },
  {
   "cell_type": "markdown",
   "id": "e815bd6e",
   "metadata": {},
   "source": [
    "### Exercise 2:\n",
    "Assign the value `True` to a variable called `is_valid`.\n"
   ]
  },
  {
   "cell_type": "code",
   "execution_count": 6,
   "id": "cc3379d5",
   "metadata": {},
   "outputs": [],
   "source": [
    "is_valid = True"
   ]
  },
  {
   "cell_type": "markdown",
   "id": "14222774",
   "metadata": {},
   "source": [
    "### Exercise 3:\n",
    "Create a string variable `name` with the value \"Python Programming\".\n"
   ]
  },
  {
   "cell_type": "code",
   "execution_count": 3,
   "id": "70b77340",
   "metadata": {},
   "outputs": [],
   "source": [
    "name = \"Python programming\""
   ]
  },
  {
   "cell_type": "markdown",
   "id": "d41f663c",
   "metadata": {},
   "source": [
    "## Exercise 4:\n",
    "Assign the result of `5 + 3` to a variable `sum_result`.\n"
   ]
  },
  {
   "cell_type": "code",
   "execution_count": 4,
   "id": "ecb98f72",
   "metadata": {},
   "outputs": [],
   "source": [
    "sum_result = '5 + 3'"
   ]
  },
  {
   "cell_type": "code",
   "execution_count": 5,
   "id": "bce5c0a9",
   "metadata": {},
   "outputs": [
    {
     "name": "stdout",
     "output_type": "stream",
     "text": [
      "5 + 3\n"
     ]
    }
   ],
   "source": [
    "print(sum_result)"
   ]
  },
  {
   "cell_type": "markdown",
   "id": "216882bf",
   "metadata": {},
   "source": [
    "### Exercise 5:\n",
    "Assign multiple variables in one line: `a = 5`, `b = 10`, `c = 15`.\n"
   ]
  },
  {
   "cell_type": "code",
   "execution_count": 8,
   "id": "37d749f1",
   "metadata": {},
   "outputs": [],
   "source": [
    "a,b,c = 5,10,15"
   ]
  },
  {
   "cell_type": "markdown",
   "id": "5dc5755e",
   "metadata": {},
   "source": [
    "### Exercise 6:\n",
    "Assign the value of one variable `x` to another variable `y`.\n"
   ]
  },
  {
   "cell_type": "code",
   "execution_count": 10,
   "id": "84191269",
   "metadata": {},
   "outputs": [],
   "source": [
    "x = 10\n",
    "y = 7"
   ]
  },
  {
   "cell_type": "markdown",
   "id": "353fa6e1",
   "metadata": {},
   "source": [
    "### Exercise 7:\n",
    "Assign a floating-point number `9.8` to a variable `gravity`."
   ]
  },
  {
   "cell_type": "code",
   "execution_count": 11,
   "id": "caf6eae9",
   "metadata": {},
   "outputs": [],
   "source": [
    "gravity = 9.8"
   ]
  },
  {
   "cell_type": "markdown",
   "id": "2e2878fb",
   "metadata": {},
   "source": [
    "### Exercise 8:\n",
    "Create a variable `country` and assign it the string value of your favorite country.\n"
   ]
  },
  {
   "cell_type": "code",
   "execution_count": 13,
   "id": "8ea30f40",
   "metadata": {},
   "outputs": [],
   "source": [
    "country = \"Senegal\""
   ]
  },
  {
   "cell_type": "markdown",
   "id": "42c8a800",
   "metadata": {},
   "source": [
    "### Exercise 9:\n",
    "Change the value of variable `age` from `25` to `26` in two separate steps."
   ]
  },
  {
   "cell_type": "code",
   "execution_count": 14,
   "id": "951d307f",
   "metadata": {},
   "outputs": [],
   "source": [
    "age = 25\n",
    "age = 26"
   ]
  },
  {
   "cell_type": "markdown",
   "id": "6e1c13b3",
   "metadata": {},
   "source": [
    "## Exercise 10:\n",
    "Use one variable to store the result of subtracting two numbers `20 - 7"
   ]
  },
  {
   "cell_type": "code",
   "execution_count": 20,
   "id": "6218b4b6",
   "metadata": {},
   "outputs": [],
   "source": [
    "result = 20 - 7"
   ]
  },
  {
   "cell_type": "markdown",
   "id": "b9d2f420",
   "metadata": {},
   "source": [
    "### Exercise 11:\n",
    "Assign an integer value and a floating-point value to two different variables.\n"
   ]
  },
  {
   "cell_type": "code",
   "execution_count": 17,
   "id": "54ee448b",
   "metadata": {},
   "outputs": [],
   "source": [
    "value_1 = 5"
   ]
  },
  {
   "cell_type": "code",
   "execution_count": 18,
   "id": "8a9a8280",
   "metadata": {},
   "outputs": [],
   "source": [
    "value_2 = 9.8"
   ]
  },
  {
   "cell_type": "markdown",
   "id": "65e47eaa",
   "metadata": {},
   "source": [
    "### Exercise 12:\n",
    "Assign a boolean value `False` to a variable `is_completed`.\n"
   ]
  },
  {
   "cell_type": "code",
   "execution_count": 19,
   "id": "7d8f07d8",
   "metadata": {},
   "outputs": [],
   "source": [
    "is_completed = False"
   ]
  },
  {
   "cell_type": "markdown",
   "id": "07f18f95",
   "metadata": {},
   "source": [
    "## Exercise 13:\n",
    "Swap the values of two variables `x` and `y`."
   ]
  },
  {
   "cell_type": "code",
   "execution_count": 24,
   "id": "f1b0a4f5",
   "metadata": {},
   "outputs": [],
   "source": [
    "x,y = y,x"
   ]
  },
  {
   "cell_type": "markdown",
   "id": "07924bc5",
   "metadata": {},
   "source": [
    "### Exercise 14:\n",
    "Assign a omplex number `3 + 4j` to a variable `complex_num`.\n"
   ]
  },
  {
   "cell_type": "code",
   "execution_count": 25,
   "id": "8086a9af",
   "metadata": {},
   "outputs": [],
   "source": [
    "complex_num = 3 + 4j"
   ]
  },
  {
   "cell_type": "markdown",
   "id": "1425d5f5",
   "metadata": {},
   "source": [
    "### Exercise 15:\n",
    "Reassign a variable from an integer to a string.\n"
   ]
  },
  {
   "cell_type": "code",
   "execution_count": 28,
   "id": "b547d977",
   "metadata": {},
   "outputs": [],
   "source": [
    " var = 5"
   ]
  },
  {
   "cell_type": "code",
   "execution_count": 33,
   "id": "18ed8fa7",
   "metadata": {},
   "outputs": [],
   "source": [
    " var = '5'"
   ]
  },
  {
   "cell_type": "markdown",
   "id": "4581bf50",
   "metadata": {},
   "source": [
    "### Exercise 16:\n",
    "Create two variables `first_name` and `last_name`, and assign them your first and last names."
   ]
  },
  {
   "cell_type": "markdown",
   "id": "42f4b709",
   "metadata": {},
   "source": [
    "first_name = \"Wandiya\"\n",
    "last_name = \"James\""
   ]
  },
  {
   "cell_type": "markdown",
   "id": "e69d96eb",
   "metadata": {},
   "source": [
    "### Exercise 17:\n",
    "Create a variable `temperature` and assign it the value of `35.5`.\n"
   ]
  },
  {
   "cell_type": "code",
   "execution_count": 32,
   "id": "b9213d7d",
   "metadata": {},
   "outputs": [],
   "source": [
    "temperature = 35.5"
   ]
  },
  {
   "cell_type": "markdown",
   "id": "52c30ff2",
   "metadata": {},
   "source": [
    "### Exercise 18:\n",
    "Assign the result of the multiplication of two numbers `8 * 6` to a variable `product`.\n"
   ]
  },
  {
   "cell_type": "code",
   "execution_count": 34,
   "id": "d9378c9f",
   "metadata": {},
   "outputs": [],
   "source": [
    "product = 8 * 6"
   ]
  },
  {
   "cell_type": "code",
   "execution_count": 35,
   "id": "fd44f3b8",
   "metadata": {},
   "outputs": [
    {
     "name": "stdout",
     "output_type": "stream",
     "text": [
      "48\n"
     ]
    }
   ],
   "source": [
    "print (product)"
   ]
  },
  {
   "cell_type": "markdown",
   "id": "3babb064",
   "metadata": {},
   "source": [
    "### Exercise 19:\n",
    "Assign a sentence of your choice to a variable `sentence`."
   ]
  },
  {
   "cell_type": "code",
   "execution_count": 36,
   "id": "d61fb2c8",
   "metadata": {},
   "outputs": [],
   "source": [
    "sentence = \"Je suis senegalese\""
   ]
  },
  {
   "cell_type": "code",
   "execution_count": 37,
   "id": "bec195ed",
   "metadata": {},
   "outputs": [
    {
     "name": "stdout",
     "output_type": "stream",
     "text": [
      "Je suis senegalese\n"
     ]
    }
   ],
   "source": [
    "print (sentence)"
   ]
  },
  {
   "cell_type": "markdown",
   "id": "ac69b991",
   "metadata": {},
   "source": [
    "### Exercise 20:\n",
    "Use an assignment to convert a string `'50'` into an integer variable `int_value`."
   ]
  },
  {
   "cell_type": "code",
   "execution_count": 39,
   "id": "dc0a5345",
   "metadata": {},
   "outputs": [],
   "source": [
    "int_value = '50'"
   ]
  },
  {
   "cell_type": "code",
   "execution_count": 41,
   "id": "d19ec0fe",
   "metadata": {},
   "outputs": [
    {
     "data": {
      "text/plain": [
       "50"
      ]
     },
     "execution_count": 41,
     "metadata": {},
     "output_type": "execute_result"
    }
   ],
   "source": [
    "int(int_value)"
   ]
  },
  {
   "cell_type": "markdown",
   "id": "a4057a07",
   "metadata": {},
   "source": [
    "### Exercise 21:\n",
    "Assign the result of dividing `144` by `12` to a variable `quotient`.\n"
   ]
  },
  {
   "cell_type": "code",
   "execution_count": 42,
   "id": "c60b0d51",
   "metadata": {},
   "outputs": [],
   "source": [
    "quotient = 144/12"
   ]
  },
  {
   "cell_type": "code",
   "execution_count": 43,
   "id": "dc2d122c",
   "metadata": {},
   "outputs": [
    {
     "name": "stdout",
     "output_type": "stream",
     "text": [
      "12.0\n"
     ]
    }
   ],
   "source": [
    "print(quotient)"
   ]
  },
  {
   "cell_type": "markdown",
   "id": "5eb11c47",
   "metadata": {},
   "source": [
    "### Exercise 22:\n",
    "Assign the remainder of `47 divided by 5` to a variable `remainder`.\n"
   ]
  },
  {
   "cell_type": "code",
   "execution_count": 44,
   "id": "420697ea",
   "metadata": {},
   "outputs": [],
   "source": [
    "remainder = 47 % 5"
   ]
  },
  {
   "cell_type": "code",
   "execution_count": 45,
   "id": "1b00b1ba",
   "metadata": {},
   "outputs": [
    {
     "name": "stdout",
     "output_type": "stream",
     "text": [
      "2\n"
     ]
    }
   ],
   "source": [
    "print(remainder)"
   ]
  },
  {
   "cell_type": "markdown",
   "id": "e6bd5fe8",
   "metadata": {},
   "source": [
    "### Exercise 23:\n",
    "Create a variable `is_student` and assign it the value `True`.\n"
   ]
  },
  {
   "cell_type": "code",
   "execution_count": 46,
   "id": "2415c51d",
   "metadata": {},
   "outputs": [],
   "source": [
    "is_student = True"
   ]
  },
  {
   "cell_type": "markdown",
   "id": "4d29fa08",
   "metadata": {},
   "source": [
    "print(is_student)"
   ]
  },
  {
   "cell_type": "markdown",
   "id": "b8a2be19",
   "metadata": {},
   "source": [
    "### Exercise 24:\n",
    "Use a variable to store the result of a modulo operation: `45 % 4`.\n"
   ]
  },
  {
   "cell_type": "code",
   "execution_count": 48,
   "id": "33ec0086",
   "metadata": {},
   "outputs": [],
   "source": [
    "Var = 45 % 4"
   ]
  },
  {
   "cell_type": "code",
   "execution_count": 49,
   "id": "ec271f98",
   "metadata": {},
   "outputs": [
    {
     "name": "stdout",
     "output_type": "stream",
     "text": [
      "5\n"
     ]
    }
   ],
   "source": [
    "var"
   ]
  },
  {
   "cell_type": "markdown",
   "id": "17c74688",
   "metadata": {},
   "source": [
    "### Exercise 25:\n",
    "Create a variable `pi` and assign it the value `3.14159`.\n"
   ]
  },
  {
   "cell_type": "code",
   "execution_count": 50,
   "id": "db6a72ea",
   "metadata": {},
   "outputs": [],
   "source": [
    "pi = 3.14159"
   ]
  },
  {
   "cell_type": "markdown",
   "id": "bcb3cd8b",
   "metadata": {},
   "source": [
    "### Exercise 26:\n",
    "Create two variables `length` and `width`, assign them values, and calculate the area of a rectangle."
   ]
  },
  {
   "cell_type": "code",
   "execution_count": 51,
   "id": "ef63d9a7",
   "metadata": {},
   "outputs": [],
   "source": [
    "length = 7\n",
    "width = 5\n",
    "area = length * width"
   ]
  },
  {
   "cell_type": "code",
   "execution_count": 52,
   "id": "772cc138",
   "metadata": {},
   "outputs": [
    {
     "name": "stdout",
     "output_type": "stream",
     "text": [
      "35\n"
     ]
    }
   ],
   "source": [
    "area"
   ]
  },
  {
   "cell_type": "markdown",
   "id": "61a034cc",
   "metadata": {},
   "source": [
    "### Exercise 27:\n",
    "Assign a negative number to a variable `negative_value`.\n"
   ]
  },
  {
   "cell_type": "code",
   "execution_count": 54,
   "id": "5e9834dc",
   "metadata": {},
   "outputs": [],
   "source": [
    "negative_value = -5"
   ]
  },
  {
   "cell_type": "markdown",
   "id": "c4fd239f",
   "metadata": {},
   "source": [
    "### Exercise 28:\n",
    "Assign a string containing a special character (e.g., \"Hello, World!\") to a variable `greeting`."
   ]
  },
  {
   "cell_type": "code",
   "execution_count": 55,
   "id": "2932cced",
   "metadata": {},
   "outputs": [],
   "source": [
    "greeting = \"Hello, world!\""
   ]
  },
  {
   "cell_type": "markdown",
   "id": "f6509cb8",
   "metadata": {},
   "source": [
    "### Exercise 29:\n",
    "Create a variable `population` and assign it a large integer value (in billions)."
   ]
  },
  {
   "cell_type": "code",
   "execution_count": 56,
   "id": "fe9af0cc",
   "metadata": {},
   "outputs": [],
   "source": [
    "population = 120121110"
   ]
  },
  {
   "cell_type": "markdown",
   "id": "e5fb83a5",
   "metadata": {},
   "source": [
    "### Exercise 30:\n",
    "Use a variable to store the result of raising `2` to the power of `8`."
   ]
  },
  {
   "cell_type": "code",
   "execution_count": 57,
   "id": "b6148972",
   "metadata": {},
   "outputs": [],
   "source": [
    " result = 2**8"
   ]
  },
  {
   "cell_type": "code",
   "execution_count": 58,
   "id": "78485e4a",
   "metadata": {},
   "outputs": [
    {
     "name": "stdout",
     "output_type": "stream",
     "text": [
      "256\n"
     ]
    }
   ],
   "source": [
    "result"
   ]
  },
  {
   "cell_type": "markdown",
   "id": "ae815737",
   "metadata": {},
   "source": [
    "### Exercise 31:\n",
    "Assign a list of your favorite fruits to a variable `fruits`.\n"
   ]
  },
  {
   "cell_type": "code",
   "execution_count": 59,
   "id": "814b9085",
   "metadata": {},
   "outputs": [],
   "source": [
    "fruits = ['orange', 'apple','water melon']"
   ]
  },
  {
   "cell_type": "markdown",
   "id": "7e141d50",
   "metadata": {},
   "source": [
    "### Exercise 32:\n",
    "Assign a tuple of three numbers to a variable `coordinates`.\n"
   ]
  },
  {
   "cell_type": "code",
   "execution_count": 61,
   "id": "8597b578",
   "metadata": {},
   "outputs": [],
   "source": [
    "coordinates = (2,3,4)"
   ]
  },
  {
   "cell_type": "markdown",
   "id": "356d93f9",
   "metadata": {},
   "source": [
    "### Exercise 33:\n",
    "Assign a dictionary with keys `name` and `age` to a variable `person`.\n"
   ]
  },
  {
   "cell_type": "code",
   "execution_count": 62,
   "id": "0a51fb55",
   "metadata": {},
   "outputs": [],
   "source": [
    "person = {'name' : 'James', 'age': 20 }"
   ]
  },
  {
   "cell_type": "code",
   "execution_count": 66,
   "id": "d77b3eb0",
   "metadata": {},
   "outputs": [
    {
     "name": "stdout",
     "output_type": "stream",
     "text": [
      "James\n"
     ]
    }
   ],
   "source": [
    "print(person[\"name\"])"
   ]
  },
  {
   "cell_type": "markdown",
   "id": "1f675546",
   "metadata": {},
   "source": [
    "### Exercise 34:\n",
    "Use variables to store the sum of two floating-point numbers.\n"
   ]
  },
  {
   "cell_type": "code",
   "execution_count": 68,
   "id": "3ce231c7",
   "metadata": {},
   "outputs": [],
   "source": [
    "var1 = 3.5\n",
    "var2 = 4.6"
   ]
  },
  {
   "cell_type": "markdown",
   "id": "f3b70d3e",
   "metadata": {},
   "source": [
    "### Exercise 35:\n",
    "Create a variable `is_sunny` and assign it the result of a comparison `10 > 5`."
   ]
  },
  {
   "cell_type": "code",
   "execution_count": 69,
   "id": "fae33e63",
   "metadata": {},
   "outputs": [],
   "source": [
    "is_sunny = 10 > 5"
   ]
  },
  {
   "cell_type": "code",
   "execution_count": 70,
   "id": "0df7cc8b",
   "metadata": {},
   "outputs": [
    {
     "name": "stdout",
     "output_type": "stream",
     "text": [
      "True\n"
     ]
    }
   ],
   "source": [
    "is_sunny"
   ]
  },
  {
   "cell_type": "markdown",
   "id": "6778fd35",
   "metadata": {},
   "source": [
    "### Exercise 36:\n",
    "Assign a string and an integer to two different variables, then print both on one line."
   ]
  },
  {
   "cell_type": "code",
   "execution_count": 71,
   "id": "ef06bc35",
   "metadata": {},
   "outputs": [],
   "source": [
    "a = \"oui\"\n",
    "b = 5"
   ]
  },
  {
   "cell_type": "code",
   "execution_count": 72,
   "id": "7628c9f4",
   "metadata": {},
   "outputs": [
    {
     "name": "stdout",
     "output_type": "stream",
     "text": [
      "oui 5\n"
     ]
    }
   ],
   "source": [
    "print (a,b)"
   ]
  },
  {
   "cell_type": "markdown",
   "id": "7873a956",
   "metadata": {},
   "source": [
    "### Exercise 37:\n",
    "Reassign a variable that originally held a number to a boolean value.\n"
   ]
  },
  {
   "cell_type": "code",
   "execution_count": 73,
   "id": "1451a38a",
   "metadata": {},
   "outputs": [],
   "source": [
    " b = 6 "
   ]
  },
  {
   "cell_type": "code",
   "execution_count": 74,
   "id": "3580c76f",
   "metadata": {},
   "outputs": [],
   "source": [
    "b = True"
   ]
  },
  {
   "cell_type": "code",
   "execution_count": 75,
   "id": "1da34ecd",
   "metadata": {},
   "outputs": [
    {
     "name": "stdout",
     "output_type": "stream",
     "text": [
      "True\n"
     ]
    }
   ],
   "source": [
    "b"
   ]
  },
  {
   "cell_type": "markdown",
   "id": "4585e2cd",
   "metadata": {},
   "source": [
    "### Exercise 38:\n",
    "Create a variable `is_weekend` and assign it the result of `False`.\n"
   ]
  },
  {
   "cell_type": "code",
   "execution_count": 77,
   "id": "861123f0",
   "metadata": {},
   "outputs": [],
   "source": [
    "is_weekend = False"
   ]
  },
  {
   "cell_type": "markdown",
   "id": "062a521b",
   "metadata": {},
   "source": [
    "### Exercise 39:\n",
    "Assign a multi-line string to a variable `description`."
   ]
  },
  {
   "cell_type": "code",
   "execution_count": 80,
   "id": "fd0a9b5d",
   "metadata": {},
   "outputs": [],
   "source": [
    "description = \"\"\"This\n",
    "is \n",
    "good\"\"\""
   ]
  },
  {
   "cell_type": "code",
   "execution_count": 81,
   "id": "fe4ea1e4",
   "metadata": {},
   "outputs": [
    {
     "name": "stdout",
     "output_type": "stream",
     "text": [
      "This\n",
      "is \n",
      "good\n"
     ]
    }
   ],
   "source": [
    "print (description)"
   ]
  },
  {
   "cell_type": "markdown",
   "id": "f3627029",
   "metadata": {},
   "source": [
    "### Exercise 40:\n",
    "Use variables to store the result of the absolute value of `-25`."
   ]
  },
  {
   "cell_type": "code",
   "execution_count": 82,
   "id": "0bec798a",
   "metadata": {},
   "outputs": [],
   "source": [
    " var = abs(-25)"
   ]
  },
  {
   "cell_type": "code",
   "execution_count": 83,
   "id": "508bc224",
   "metadata": {},
   "outputs": [
    {
     "name": "stdout",
     "output_type": "stream",
     "text": [
      "25\n"
     ]
    }
   ],
   "source": [
    "print(var)"
   ]
  },
  {
   "cell_type": "markdown",
   "id": "3ac3b386",
   "metadata": {},
   "source": [
    "### Exercise 41:\n",
    "Assign the result of a floor division `100 // 6` to a variable `floor_div_result`."
   ]
  },
  {
   "cell_type": "code",
   "execution_count": 84,
   "id": "98b38905",
   "metadata": {},
   "outputs": [],
   "source": [
    "floor_div_result = 100//6"
   ]
  },
  {
   "cell_type": "code",
   "execution_count": 85,
   "id": "bfed6e7e",
   "metadata": {},
   "outputs": [
    {
     "name": "stdout",
     "output_type": "stream",
     "text": [
      "16\n"
     ]
    }
   ],
   "source": [
    "print(floor_div_result)"
   ]
  },
  {
   "cell_type": "markdown",
   "id": "ddd2ab07",
   "metadata": {},
   "source": [
    "### Exercise 42:\n",
    "Assign the result of adding a floating-point number to an integer to a variable `mixed_sum`."
   ]
  },
  {
   "cell_type": "code",
   "execution_count": 86,
   "id": "71495354",
   "metadata": {},
   "outputs": [],
   "source": [
    " a = 5"
   ]
  },
  {
   "cell_type": "code",
   "execution_count": 87,
   "id": "8623bbe8",
   "metadata": {},
   "outputs": [],
   "source": [
    "b = 4.5 "
   ]
  },
  {
   "cell_type": "code",
   "execution_count": 88,
   "id": "b3147d39",
   "metadata": {},
   "outputs": [],
   "source": [
    "mixed_sum = 5 + 4.5"
   ]
  },
  {
   "cell_type": "code",
   "execution_count": 101,
   "id": "edb97413",
   "metadata": {},
   "outputs": [
    {
     "data": {
      "text/plain": [
       "9.5"
      ]
     },
     "execution_count": 101,
     "metadata": {},
     "output_type": "execute_result"
    }
   ],
   "source": [
    "mixed_sum"
   ]
  },
  {
   "cell_type": "markdown",
   "id": "bf84d2e8",
   "metadata": {},
   "source": [
    "### Exercise 43:\n",
    "Assign a boolean value based on the comparison of two variables `a = 10` and `b = 15`.\n"
   ]
  },
  {
   "cell_type": "code",
   "execution_count": 92,
   "id": "9a0681f8",
   "metadata": {},
   "outputs": [],
   "source": [
    "a = 10\n",
    "b = 15"
   ]
  },
  {
   "cell_type": "code",
   "execution_count": 93,
   "id": "80bf46fc",
   "metadata": {},
   "outputs": [],
   "source": [
    "c = a > b"
   ]
  },
  {
   "cell_type": "code",
   "execution_count": 99,
   "id": "65e304bb",
   "metadata": {},
   "outputs": [
    {
     "data": {
      "text/plain": [
       "False"
      ]
     },
     "execution_count": 99,
     "metadata": {},
     "output_type": "execute_result"
    }
   ],
   "source": [
    "c"
   ]
  },
  {
   "cell_type": "markdown",
   "id": "8c9fc3b5",
   "metadata": {},
   "source": [
    "### Exercise 44:\n",
    "Assign a long sentence to a variable and count its characters using `len()`."
   ]
  },
  {
   "cell_type": "code",
   "execution_count": 95,
   "id": "b051e13f",
   "metadata": {},
   "outputs": [],
   "source": [
    " sentence = 'mathematics is good'"
   ]
  },
  {
   "cell_type": "code",
   "execution_count": 98,
   "id": "936538b5",
   "metadata": {},
   "outputs": [
    {
     "data": {
      "text/plain": [
       "18"
      ]
     },
     "execution_count": 98,
     "metadata": {},
     "output_type": "execute_result"
    }
   ],
   "source": [
    "len(sentence)"
   ]
  },
  {
   "cell_type": "markdown",
   "id": "8e736acf",
   "metadata": {},
   "source": [
    "### Exercise 45:\n",
    "Assign a fractional result `7 / 3` to a variable `division_result`.\n"
   ]
  },
  {
   "cell_type": "code",
   "execution_count": 100,
   "id": "fad2a164",
   "metadata": {},
   "outputs": [],
   "source": [
    "division_result = 7/3"
   ]
  },
  {
   "cell_type": "code",
   "execution_count": 102,
   "id": "91983817",
   "metadata": {},
   "outputs": [
    {
     "data": {
      "text/plain": [
       "2.3333333333333335"
      ]
     },
     "execution_count": 102,
     "metadata": {},
     "output_type": "execute_result"
    }
   ],
   "source": [
    "division_result"
   ]
  },
  {
   "cell_type": "markdown",
   "id": "5eb34279",
   "metadata": {},
   "source": [
    "### Exercise 46:\n",
    "Create a variable `speed` and assign it the value of 100 kilometers per hour."
   ]
  },
  {
   "cell_type": "code",
   "execution_count": 111,
   "id": "90cf4218",
   "metadata": {},
   "outputs": [],
   "source": [
    "speed = 100"
   ]
  },
  {
   "cell_type": "markdown",
   "id": "78e83994",
   "metadata": {},
   "source": [
    "### Exercise 47:\n",
    "Assign a multi-variable equation like `y = 3x + 5` where `x = 4` to a variable `y`."
   ]
  },
  {
   "cell_type": "code",
   "execution_count": 113,
   "id": "1e66fc0e",
   "metadata": {},
   "outputs": [],
   "source": [
    "# x = 4\n",
    "y = 12 + 5"
   ]
  },
  {
   "cell_type": "markdown",
   "id": "b742f3f9",
   "metadata": {},
   "source": [
    "### Exercise 48:\n",
    "Use variables to calculate and store the average of three numbers.\n"
   ]
  },
  {
   "cell_type": "code",
   "execution_count": 105,
   "id": "c8f167cc",
   "metadata": {},
   "outputs": [],
   "source": [
    "x = 10"
   ]
  },
  {
   "cell_type": "code",
   "execution_count": 107,
   "id": "9e92f91d",
   "metadata": {},
   "outputs": [],
   "source": [
    "y = 5"
   ]
  },
  {
   "cell_type": "code",
   "execution_count": 108,
   "id": "55e657d1",
   "metadata": {},
   "outputs": [],
   "source": [
    "z = 6"
   ]
  },
  {
   "cell_type": "code",
   "execution_count": 109,
   "id": "04cdff48",
   "metadata": {},
   "outputs": [],
   "source": [
    "result = (x + y + z)/3"
   ]
  },
  {
   "cell_type": "code",
   "execution_count": 110,
   "id": "204719e4",
   "metadata": {},
   "outputs": [
    {
     "data": {
      "text/plain": [
       "7.0"
      ]
     },
     "execution_count": 110,
     "metadata": {},
     "output_type": "execute_result"
    }
   ],
   "source": [
    "result"
   ]
  },
  {
   "cell_type": "code",
   "execution_count": null,
   "id": "62d0cc1b",
   "metadata": {},
   "outputs": [],
   "source": []
  }
 ],
 "metadata": {
  "kernelspec": {
   "display_name": "Python 3 (ipykernel)",
   "language": "python",
   "name": "python3"
  },
  "language_info": {
   "codemirror_mode": {
    "name": "ipython",
    "version": 3
   },
   "file_extension": ".py",
   "mimetype": "text/x-python",
   "name": "python",
   "nbconvert_exporter": "python",
   "pygments_lexer": "ipython3",
   "version": "3.10.12"
  }
 },
 "nbformat": 4,
 "nbformat_minor": 5
}
