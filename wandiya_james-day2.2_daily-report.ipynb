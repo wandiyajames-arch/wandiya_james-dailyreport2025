{
 "cells": [
  {
   "cell_type": "markdown",
   "id": "331a38d1",
   "metadata": {},
   "source": [
    "# Practical_2: String and files"
   ]
  },
  {
   "cell_type": "markdown",
   "id": "a22cb9ff",
   "metadata": {},
   "source": [
    "### Exercise 1:\n",
    "Create a string variable `text` and assign it the value `\"Python is amazing!\"`."
   ]
  },
  {
   "cell_type": "code",
   "execution_count": 1,
   "id": "4b307a6c",
   "metadata": {},
   "outputs": [],
   "source": [
    "text = \"Python is amazing\""
   ]
  },
  {
   "cell_type": "markdown",
   "id": "82d1fc0c",
   "metadata": {},
   "source": [
    "### Exercise 2:\n",
    "Find the length of the string `\"Hello, World!\"` and store it in a variable `length`.\n"
   ]
  },
  {
   "cell_type": "code",
   "execution_count": 2,
   "id": "c9b3eecc",
   "metadata": {},
   "outputs": [],
   "source": [
    "length = \"Hello, world!\""
   ]
  },
  {
   "cell_type": "code",
   "execution_count": 4,
   "id": "4d57db35",
   "metadata": {},
   "outputs": [
    {
     "data": {
      "text/plain": [
       "13"
      ]
     },
     "execution_count": 4,
     "metadata": {},
     "output_type": "execute_result"
    }
   ],
   "source": [
    "len(length)"
   ]
  },
  {
   "cell_type": "markdown",
   "id": "93583ec3",
   "metadata": {},
   "source": [
    "### Exercise 3:\n",
    "Convert the string `\"python programming\"` to uppercase and store it in a variable `upper_text`.\n"
   ]
  },
  {
   "cell_type": "code",
   "execution_count": 3,
   "id": "5c5d8eec-e769-447f-9196-8841685d17c1",
   "metadata": {},
   "outputs": [
    {
     "name": "stdout",
     "output_type": "stream",
     "text": [
      "text: python programming\n",
      "Uppercase text: PYTHON PROGRAMMING\n"
     ]
    }
   ],
   "source": [
    "# Define the original strin\n",
    "text = \"python programming\"\n",
    "\n",
    "upper_text = text.upper()\n",
    "\n",
    "# Print to check the result\n",
    "print(f\"text: {original_text}\")\n",
    "print(f\"Uppercase text: {upper_text}\")"
   ]
  },
  {
   "cell_type": "markdown",
   "id": "d99155c6",
   "metadata": {},
   "source": [
    "### Exercise 5:\n",
    "Concatenate the strings `\"Hello\"` and `\"World\"` with a space in between."
   ]
  },
  {
   "cell_type": "raw",
   "id": "0caca22a-9c16-4527-be69-8db1c54b3574",
   "metadata": {},
   "source": [
    "result = \"Hello\" + \"\" + \"world\""
   ]
  },
  {
   "cell_type": "raw",
   "id": "4b967bff-c414-4777-85ca-33dacb92b5e1",
   "metadata": {},
   "source": [
    " print(result)"
   ]
  },
  {
   "cell_type": "markdown",
   "id": "38a96638",
   "metadata": {},
   "source": [
    "### Exercise 6:\n",
    "Replace the word `\"dog\"` with `\"cat\"` in the string `\"The quick brown dog jumps over the lazy dog.\"`.\n"
   ]
  },
  {
   "cell_type": "code",
   "execution_count": 8,
   "id": "2d0b05b1-f6bb-40ef-9bb7-90442c636224",
   "metadata": {},
   "outputs": [
    {
     "name": "stdout",
     "output_type": "stream",
     "text": [
      "The quick brown cat jumps over the lazy cat\n"
     ]
    }
   ],
   "source": [
    "# Define the original_string variable before using it\n",
    "original_string = \"The quick brown dog jumps over the lazy dog\"\n",
    "\n",
    "# Now we can perform the replacement\n",
    "new_string = original_string.replace(\"dog\", \"cat\", 2)\n",
    "\n",
    "# Optional: Print to see the result\n",
    "print(new_string)"
   ]
  },
  {
   "cell_type": "markdown",
   "id": "2d3e08c3",
   "metadata": {},
   "source": [
    "### Exercise 7:\n",
    "Split the string `\"apple,banana,orange\"` by commas and store the result in a list `fruits_list`."
   ]
  },
  {
   "cell_type": "code",
   "execution_count": null,
   "id": "78a2f1a6",
   "metadata": {},
   "outputs": [],
   "source": [
    "fuits_list = ['apple', 'banana','organge']"
   ]
  },
  {
   "cell_type": "markdown",
   "id": "5f46abfc",
   "metadata": {},
   "source": [
    "### Exercise 8:\n",
    "Use string formatting to create the sentence `\"My name is Alice and I am 25 years old.\"`, where the name and age are variables.\n"
   ]
  },
  {
   "cell_type": "code",
   "execution_count": 11,
   "id": "aff21ed3-b90e-4071-a741-ee7c2a8d216d",
   "metadata": {},
   "outputs": [
    {
     "name": "stdout",
     "output_type": "stream",
     "text": [
      "My name is Alice and I am 25 years old.\n"
     ]
    }
   ],
   "source": [
    "# Define the variables\n",
    "name = \"Alice\"\n",
    "age = 25\n",
    "\n",
    "# Using f-strings (Python 3.6+)\n",
    "sentence1 = f\"My name is {name} and I am {age} years old.\"\n",
    "print(sentence1)"
   ]
  },
  {
   "cell_type": "markdown",
   "id": "663f9059",
   "metadata": {},
   "source": [
    "### Exercise 9:\n",
    "Check if the string `\"python\"` is present in the sentence `\"I love python programming\"`."
   ]
  },
  {
   "cell_type": "code",
   "execution_count": 10,
   "id": "2151ad8f",
   "metadata": {},
   "outputs": [],
   "source": [
    "sentence = \"I love python programming\""
   ]
  },
  {
   "cell_type": "code",
   "execution_count": 11,
   "id": "51aba353-8153-462a-a3bb-460ac0b49450",
   "metadata": {},
   "outputs": [],
   "source": [
    "is_present = \"python\" in sentence"
   ]
  },
  {
   "cell_type": "code",
   "execution_count": 12,
   "id": "0f609e69-b802-43da-a6f6-dab7ed34fa18",
   "metadata": {},
   "outputs": [
    {
     "data": {
      "text/plain": [
       "True"
      ]
     },
     "execution_count": 12,
     "metadata": {},
     "output_type": "execute_result"
    }
   ],
   "source": [
    "is_present"
   ]
  },
  {
   "cell_type": "markdown",
   "id": "daa4c62b-2c53-4fd3-939e-57810ab67258",
   "metadata": {},
   "source": [
    "### Exercise 10:\n",
    "Count the number of occurrences of the letter `\"e\"` in the string `\"Elephant is an elegant animal\"`."
   ]
  },
  {
   "cell_type": "code",
   "execution_count": 13,
   "id": "8e471b59-c033-4f3c-a4eb-72833a1c07ba",
   "metadata": {},
   "outputs": [],
   "source": [
    "sentence = \"Elephant is an elegant animal\""
   ]
  },
  {
   "cell_type": "code",
   "execution_count": 17,
   "id": "488a62a0-bdd7-49fa-bc3a-50ed5d43a8a0",
   "metadata": {},
   "outputs": [],
   "source": [
    "count_e = sentence.count (\"e\")"
   ]
  },
  {
   "cell_type": "code",
   "execution_count": 18,
   "id": "cc040e6a-6db8-4449-b5c3-716f85a5112f",
   "metadata": {},
   "outputs": [
    {
     "name": "stdout",
     "output_type": "stream",
     "text": [
      "3\n"
     ]
    }
   ],
   "source": [
    "print(count_e)"
   ]
  },
  {
   "cell_type": "markdown",
   "id": "f1d43131-5337-4881-87a7-e576d2e171c9",
   "metadata": {},
   "source": [
    "### Exercise 11:\n",
    "Remove any leading and trailing spaces from the string `\"   Data Science   \"`."
   ]
  },
  {
   "cell_type": "code",
   "execution_count": 28,
   "id": "5b170cc2-7339-4ba8-8cf8-b86775154898",
   "metadata": {},
   "outputs": [
    {
     "name": "stdout",
     "output_type": "stream",
     "text": [
      "Data Science\n"
     ]
    }
   ],
   "source": [
    "word = \"   Data Science   \"\n",
    "cleaned_word = text.strip()\n",
    "print(cleaned_word)"
   ]
  },
  {
   "cell_type": "markdown",
   "id": "65edfd3b-0122-4649-8f55-6d214707b9da",
   "metadata": {},
   "source": [
    "### Exercise 12:\n",
    "Convert the string `\"100\"` into an integer and store it in a variable `int_value`."
   ]
  },
  {
   "cell_type": "code",
   "execution_count": 30,
   "id": "1808c2f4-a86d-4255-a301-1daadf606b39",
   "metadata": {},
   "outputs": [],
   "source": [
    "string_value = \"100\""
   ]
  },
  {
   "cell_type": "code",
   "execution_count": 32,
   "id": "c0a6c464-9bca-4077-af56-344a74390a2f",
   "metadata": {},
   "outputs": [],
   "source": [
    "int_value = int(string_value)"
   ]
  },
  {
   "cell_type": "code",
   "execution_count": 35,
   "id": "73753806-100a-4f22-bf84-553b3ab55b11",
   "metadata": {},
   "outputs": [
    {
     "name": "stdout",
     "output_type": "stream",
     "text": [
      "Original string: 100, type: <class 'str'>\n"
     ]
    }
   ],
   "source": [
    "print (f\"Original string: {string_value}, type: {type(string_value)}\")"
   ]
  },
  {
   "cell_type": "code",
   "execution_count": 38,
   "id": "7dab2113-ea86-4f94-b604-688b0e0e7e7a",
   "metadata": {},
   "outputs": [
    {
     "name": "stdout",
     "output_type": "stream",
     "text": [
      "Converted integer: 100, type:<class 'int'>\n"
     ]
    }
   ],
   "source": [
    "print (f\"Converted integer: {int_value}, type:{type(int_value)}\")"
   ]
  },
  {
   "cell_type": "code",
   "execution_count": 39,
   "id": "4fc235ff-f042-49c8-85ee-b53217780a9c",
   "metadata": {},
   "outputs": [
    {
     "name": "stdout",
     "output_type": "stream",
     "text": [
      "int_value + 50) = 150\n"
     ]
    }
   ],
   "source": [
    "print (f\"int_value + 50) = {int_value + 50}\")"
   ]
  },
  {
   "cell_type": "markdown",
   "id": "b9d9313f-93b8-4bb3-b610-31753e31e635",
   "metadata": {},
   "source": [
    "### Exercise 13:\n",
    "Extract the substring `\"pro\"` from the string `\"programming\"`."
   ]
  },
  {
   "cell_type": "code",
   "execution_count": 41,
   "id": "5ce73383-5e5e-4243-ae18-e01816578928",
   "metadata": {},
   "outputs": [],
   "source": [
    "text =\"programming\""
   ]
  },
  {
   "cell_type": "code",
   "execution_count": 42,
   "id": "f7324c06-4538-4958-aa4e-cf15eb239dc6",
   "metadata": {},
   "outputs": [],
   "source": [
    "text_1 = text[0:3]"
   ]
  },
  {
   "cell_type": "code",
   "execution_count": 43,
   "id": "a54c698e-4f56-48f7-899a-1f47c2242f0f",
   "metadata": {},
   "outputs": [
    {
     "data": {
      "text/plain": [
       "'pro'"
      ]
     },
     "execution_count": 43,
     "metadata": {},
     "output_type": "execute_result"
    }
   ],
   "source": [
    "text_1"
   ]
  },
  {
   "cell_type": "markdown",
   "id": "516f94c8-bb0f-4543-9461-e1dafe7782b7",
   "metadata": {},
   "source": [
    "### Exercise 15:\n",
    "Reverse the string `\"machine learning\"` and store the result in `reversed_text`."
   ]
  },
  {
   "cell_type": "code",
   "execution_count": 44,
   "id": "0fc28d8b-9ddd-4cc7-bd7b-4bc8e57ec496",
   "metadata": {},
   "outputs": [],
   "source": [
    "text = \"machine learning\""
   ]
  },
  {
   "cell_type": "code",
   "execution_count": 46,
   "id": "7f770d67-fa5c-401e-9386-392883d683de",
   "metadata": {},
   "outputs": [],
   "source": [
    "reversed_text = text[::-1]"
   ]
  },
  {
   "cell_type": "code",
   "execution_count": 47,
   "id": "613620f9-11c6-4a07-8647-6a9406142447",
   "metadata": {},
   "outputs": [
    {
     "data": {
      "text/plain": [
       "'gninrael enihcam'"
      ]
     },
     "execution_count": 47,
     "metadata": {},
     "output_type": "execute_result"
    }
   ],
   "source": [
    "reversed_text"
   ]
  },
  {
   "cell_type": "markdown",
   "id": "bd1835f0-f054-4fc2-b27d-691dae4d9668",
   "metadata": {},
   "source": [
    "### Exercise 16:\n",
    "Convert the first letter of each word in the string `\"machine learning is fun\"` to uppercase."
   ]
  },
  {
   "cell_type": "code",
   "execution_count": 48,
   "id": "c33b9cf4-febd-4734-a86b-1a257b72ace7",
   "metadata": {},
   "outputs": [],
   "source": [
    "original_text = \"machine learning is fun\""
   ]
  },
  {
   "cell_type": "code",
   "execution_count": 49,
   "id": "d654d816-0380-4544-a3d9-597397016ef1",
   "metadata": {},
   "outputs": [],
   "source": [
    "uppercase = original_text.title() "
   ]
  },
  {
   "cell_type": "code",
   "execution_count": 50,
   "id": "399dc427-3d03-4b27-8a24-d43185a30a9d",
   "metadata": {},
   "outputs": [
    {
     "data": {
      "text/plain": [
       "'Machine Learning Is Fun'"
      ]
     },
     "execution_count": 50,
     "metadata": {},
     "output_type": "execute_result"
    }
   ],
   "source": [
    "uppercase"
   ]
  },
  {
   "cell_type": "markdown",
   "id": "3390dd56-a9b7-4989-829c-b4e57d79d17e",
   "metadata": {},
   "source": [
    "### Exercise 17:\n",
    "Create a multiline string representing a poem and store it in a variable `poem`."
   ]
  },
  {
   "cell_type": "code",
   "execution_count": 51,
   "id": "0bf719c2-6258-406d-9f2b-ebec5d8ac616",
   "metadata": {},
   "outputs": [],
   "source": [
    "peom = \"\"\"Bugs in the night, they creep and crawl,\n",
    "A missing semicolon, the bane of all.\n",
    "But with patience and care, the code will sing,\n",
    "A flawless program, a beautiful thing. \"\"\""
   ]
  },
  {
   "cell_type": "code",
   "execution_count": 53,
   "id": "8578d352-912f-4b6b-a881-d083a92ec4db",
   "metadata": {},
   "outputs": [
    {
     "data": {
      "text/plain": [
       "'Bugs in the night, they creep and crawl,\\nA missing semicolon, the bane of all.\\nBut with patience and care, the code will sing,\\nA flawless program, a beautiful thing. '"
      ]
     },
     "execution_count": 53,
     "metadata": {},
     "output_type": "execute_result"
    }
   ],
   "source": [
    "peom"
   ]
  },
  {
   "cell_type": "markdown",
   "id": "083fabfc-5199-4a3c-aee2-02532947e44d",
   "metadata": {},
   "source": [
    "### Exercise 18:\n",
    "Write a string to a file named `\"output.txt\"`."
   ]
  },
  {
   "cell_type": "code",
   "execution_count": 56,
   "id": "753e2162-5632-4150-a8dc-33a1696c8c50",
   "metadata": {},
   "outputs": [],
   "source": [
    "file = \"output.text\""
   ]
  },
  {
   "cell_type": "code",
   "execution_count": 57,
   "id": "d0b79a5f-304c-4344-a889-957db8c0a457",
   "metadata": {},
   "outputs": [
    {
     "data": {
      "text/plain": [
       "'output.text'"
      ]
     },
     "execution_count": 57,
     "metadata": {},
     "output_type": "execute_result"
    }
   ],
   "source": [
    "file"
   ]
  },
  {
   "cell_type": "markdown",
   "id": "e0dc154e-e97b-4829-820e-e17ce205c72a",
   "metadata": {},
   "source": [
    "### Exercise 19:\n",
    "Read the contents of a file named `\"data.txt\"` and print it line by line."
   ]
  },
  {
   "cell_type": "code",
   "execution_count": 13,
   "id": "d7e9fb19-80da-499c-a86d-b32b224ff170",
   "metadata": {},
   "outputs": [
    {
     "name": "stdout",
     "output_type": "stream",
     "text": [
      "file is a collection of data\n",
      "\n"
     ]
    }
   ],
   "source": [
    "import os\n",
    "file_path = \"data.txt\"\n",
    "\n",
    "if os.path.exists(file_path):\n",
    "    # File exists, open and read it\n",
    "    with open(file_path, 'r') as file:\n",
    "        content = file.readlines()\n",
    "        for line in content:\n",
    "            print(line)\n",
    "else:\n",
    "    print(f\"The file '{file_path}' does not exist.\")"
   ]
  },
  {
   "cell_type": "markdown",
   "id": "284dda67-f21a-4301-bf16-4354f070df0e",
   "metadata": {},
   "source": [
    "### Exercise 20:\n",
    "Check if a file `\"example.txt\"` exists before opening it.\n"
   ]
  },
  {
   "cell_type": "code",
   "execution_count": 15,
   "id": "ec3ac276-eb35-468e-8b33-d24bee97137b",
   "metadata": {},
   "outputs": [
    {
     "name": "stdout",
     "output_type": "stream",
     "text": [
      "File content: This file exist \n"
     ]
    }
   ],
   "source": [
    "import os\n",
    "file_path = \"example.txt\"\n",
    "\n",
    "if os.path.exists(file_path):\n",
    "    # File exists, open and read it\n",
    "    with open(file_path, 'r') as file:\n",
    "        content = file.read()\n",
    "        print(\"File content:\", content)\n",
    "else:\n",
    "    print(f\"The file '{file_path}' does not exist.\")"
   ]
  },
  {
   "cell_type": "markdown",
   "id": "cc30c570-5146-4d27-a7ed-10594279ab86",
   "metadata": {},
   "source": [
    "### Exercise 21:\n",
    "Append a new line `\"This is a new line\"` to an existing file `\"notes.txt\"`.\n"
   ]
  },
  {
   "cell_type": "code",
   "execution_count": 25,
   "id": "ac51cd33-5039-45a9-b6bd-6f9be4f422ac",
   "metadata": {},
   "outputs": [],
   "source": [
    "import os\n",
    "file_path = \"notes.txt\"\n",
    "if os.path.exists(file_path):\n",
    "    with open(file_path, 'a') as file:\n",
    "        file.write('This is a new line')\n",
    "else:\n",
    "    print(f\"The file '{file_path}' does not exists. \")"
   ]
  },
  {
   "cell_type": "markdown",
   "id": "6f3f4ef8-6c91-470c-87a9-7f4968c3ad0d",
   "metadata": {},
   "source": [
    "### Exercise 22:\n",
    "Read the contents of a file `\"log.txt\"` and store each line in a list `log_lines`.\n"
   ]
  },
  {
   "cell_type": "code",
   "execution_count": 27,
   "id": "804bb1b5-10ff-4902-ab46-7cc2ddc68d9b",
   "metadata": {},
   "outputs": [
    {
     "name": "stdout",
     "output_type": "stream",
     "text": [
      "Read 2 lines from log.txt\n"
     ]
    }
   ],
   "source": [
    "# Read file contents into a list\n",
    "try:\n",
    "    with open(\"log.txt\", \"r\") as file:\n",
    "        log_lines = file.readlines()\n",
    "        # Optional: Remove newline characters\n",
    "        log_lines = [line.strip() for line in log_lines]\n",
    "    \n",
    "    print(f\"Read {len(log_lines)} lines from log.txt\")\n",
    "    \n",
    "except FileNotFoundError:\n",
    "    print(\"Error: File 'log.txt' not found.\")\n",
    "    log_lines = []"
   ]
  },
  {
   "cell_type": "markdown",
   "id": "09f2aba3-e9cb-419a-a024-9b64688a3c5c",
   "metadata": {},
   "source": [
    "### Exercise 23:\n",
    "Create a new file `\"report.txt\"` and write the string `\"Data analysis report\"` to it."
   ]
  },
  {
   "cell_type": "code",
   "execution_count": 28,
   "id": "7a4bf0f2-36c8-4002-b737-69bcffd10fc7",
   "metadata": {},
   "outputs": [],
   "source": [
    "file_name = \"report.txt\""
   ]
  },
  {
   "cell_type": "code",
   "execution_count": 32,
   "id": "e4040679-e0d0-4219-91ee-60da7e6cf0a8",
   "metadata": {},
   "outputs": [],
   "source": [
    "content = \"Data analysis report\""
   ]
  },
  {
   "cell_type": "code",
   "execution_count": 35,
   "id": "560104e0-16da-4013-8bf0-f7d9d0dd090a",
   "metadata": {},
   "outputs": [],
   "source": [
    "with open(file_name, 'w') as file:\n",
    "    file.write(content)\n"
   ]
  },
  {
   "cell_type": "markdown",
   "id": "115a2e29-e699-4e42-9aa5-48f79ae8305d",
   "metadata": {},
   "source": [
    "### Exercise 24:\n",
    "Replace the word `\"error\"` with `\"issue\"` in a file `\"log.txt\"`.\n"
   ]
  },
  {
   "cell_type": "code",
   "execution_count": 47,
   "id": "9124bdb2-3540-4e58-9fee-c4ac50245949",
   "metadata": {},
   "outputs": [
    {
     "name": "stdout",
     "output_type": "stream",
     "text": [
      "This is text \n",
      "lines are lines \n",
      "issue\n",
      "issue\n"
     ]
    }
   ],
   "source": [
    "with open(\"log.txt\", \"r\") as file:\n",
    "    content = file.read()\n",
    "    \n",
    "new_content = content.replace(\"error\", \"issue\")\n",
    "\n",
    "with open(\"log.txt\", \"w\") as file:\n",
    "    file.write(new_content)\n",
    "    print(new_content)"
   ]
  },
  {
   "cell_type": "markdown",
   "id": "4d47a1ae-e7b2-4d00-85dc-3dec6d2cd3cb",
   "metadata": {},
   "source": [
    "### Exercise 25:\n",
    "Count the number of words in a text file `\"document.txt\"`.\n"
   ]
  },
  {
   "cell_type": "code",
   "execution_count": 57,
   "id": "17ed7666-0ad2-4630-8111-06c0e38094fe",
   "metadata": {},
   "outputs": [
    {
     "name": "stdout",
     "output_type": "stream",
     "text": [
      "The file 'document.txt' contains 20 words.\n"
     ]
    }
   ],
   "source": [
    "try:\n",
    "    with open(\"document.txt\", \"r\") as file:\n",
    "        content = file.read()\n",
    "        words = content.split()\n",
    "        word_count = len(words)\n",
    "        \n",
    "    print(f\"The file 'document.txt' contains {word_count} words.\")\n",
    "except FileNotFoundError:\n",
    "    print(\"Error: The file 'document.txt' was not found.\")\n",
    "except Exception as e:\n",
    "    print(f\"An error occurred: {e}\")"
   ]
  },
  {
   "cell_type": "markdown",
   "id": "fe55e6c1-c77e-44f1-b31f-eb621a3b92c5",
   "metadata": {},
   "source": [
    "### Exercise 26:\n",
    "Write a Python script that reads a file `\"essay.txt\"` and prints the total number of lines, words, and characters."
   ]
  },
  {
   "cell_type": "code",
   "execution_count": 61,
   "id": "36b1e415-9a28-4449-9efd-36c3cc4bca7b",
   "metadata": {},
   "outputs": [
    {
     "name": "stdout",
     "output_type": "stream",
     "text": [
      "File: essay.txt\n",
      "Lines: 4\n",
      "Words: 16\n",
      "Characters: 68\n",
      "\n",
      "Summary: 4 lines, 16 words, 68 characters\n"
     ]
    }
   ],
   "source": [
    "try:\n",
    "    with open(\"essay.txt\", \"r\", encoding=\"utf-8\") as file:\n",
    "        content = file.read()\n",
    "        char_count = len(content)\n",
    "        \n",
    "        lines = content.splitlines()\n",
    "        line_count = len(lines) \n",
    "        \n",
    "        words = content.split()\n",
    "        word_count = len(words)\n",
    "        \n",
    "        print(f\"File: essay.txt\")\n",
    "        print(f\"Lines: {line_count}\")\n",
    "        print(f\"Words: {word_count}\")\n",
    "        print(f\"Characters: {char_count}\")\n",
    "        \n",
    "        print(f\"\\nSummary: {line_count} lines, {word_count} words, {char_count} characters\")\n",
    "except FileNotFoundError:\n",
    "    print(\"Error: The file 'essay.txt' was not found.\")\n",
    "except Exception as e:\n",
    "    print(f\"An error occurred: {e}\")"
   ]
  },
  {
   "cell_type": "markdown",
   "id": "0a69f175-61df-4aff-89f4-cf3bbdd5785b",
   "metadata": {},
   "source": [
    "### Exercise 27:\n",
    "Copy the contents of one file `\"source.txt\"` to another file `\"destination.txt\"`.\n"
   ]
  },
  {
   "cell_type": "code",
   "execution_count": 62,
   "id": "ed380f31-434c-422e-bd1d-391584324cd5",
   "metadata": {},
   "outputs": [
    {
     "name": "stdout",
     "output_type": "stream",
     "text": [
      "File copied successfully!\n"
     ]
    }
   ],
   "source": [
    "try:\n",
    "    # source file\n",
    "    with open(\"source.txt\", \"r\") as source:\n",
    "        content = source.read()\n",
    "    \n",
    "    # Write to destination file\n",
    "    with open(\"destination.txt\", \"w\") as destination:\n",
    "        destination.write(content)\n",
    "    \n",
    "    print(\"File copied successfully!\")\n",
    "    \n",
    "except Exception as e:\n",
    "    print(f\"Error: {e}\")"
   ]
  },
  {
   "cell_type": "markdown",
   "id": "5f03786b-8038-464e-9d1e-4033c85156d9",
   "metadata": {},
   "source": [
    "### Exercise 28:\n",
    "Write a Python function that takes a filename as input and returns the number of lines in the file."
   ]
  },
  {
   "cell_type": "code",
   "execution_count": 22,
   "id": "c567c9db-5ddd-4c96-aef1-c51da44263b1",
   "metadata": {},
   "outputs": [],
   "source": [
    "def count_lines(filename):\n",
    "    \"\"\"Return the number of lines in a file.\"\"\"\n",
    "    try:\n",
    "        with open(filename, 'r') as file:\n",
    "            return sum(1 for line in file)\n",
    "    except FileNotFoundError:\n",
    "        print(f\"Error: File '{filename}' not found.\")\n",
    "        return 0\n"
   ]
  },
  {
   "cell_type": "markdown",
   "id": "de70f6cc-1577-46ff-9120-b401ca142534",
   "metadata": {},
   "source": [
    "### Exercise 29:\n",
    "Extract all the words from a text file `\"article.txt\"` that contain more than 5 characters."
   ]
  },
  {
   "cell_type": "code",
   "execution_count": null,
   "id": "1ba1b651-3df3-4878-a735-7aadea5df5c6",
   "metadata": {},
   "outputs": [],
   "source": [
    "# Define the file name\n",
    "file_name = \"article.txt\"\n",
    "\n",
    "# Initialize an empty list to store long words\n",
    "long_words = []\n",
    "\n",
    "# Open the file and read its contents\n",
    "with open(file_name, 'r') as file:\n",
    "    for line in file:\n",
    "        # Split the line into words and filter long words\n",
    "        long_words.extend([word for word in line.split() if len(word) > 5])\n",
    "\n",
    "# Print the list of long words\n",
    "print(long_words)"
   ]
  },
  {
   "cell_type": "markdown",
   "id": "a17a0c8e-882f-471a-a406-371f88a0add2",
   "metadata": {},
   "source": [
    "### Exercise 30:\n",
    "Convert the contents of a file `\"notes.txt\"` to uppercase and save the result in another file `\"uppercase_notes.txt\"`."
   ]
  },
  {
   "cell_type": "code",
   "execution_count": 69,
   "id": "88bc7bff-0b0a-4299-9a78-bdfbdfa891ef",
   "metadata": {},
   "outputs": [
    {
     "name": "stdout",
     "output_type": "stream",
     "text": [
      "Result saved in 'uppercase_notes.txt'\n"
     ]
    }
   ],
   "source": [
    "\n",
    "# Convert the content to uppercase\n",
    "uppercase_content = \"notes.text\"\n",
    "uppercase_content = content.upper()\n",
    "\n",
    "with open(\"uppercase_notes.txt\", \"w\") as output_file:\n",
    "    output_file.write(uppercase_content)\n",
    "\n",
    "print(\"Result saved in 'uppercase_notes.txt'\")"
   ]
  },
  {
   "cell_type": "markdown",
   "id": "cdab04bb-532e-487f-8178-3487cd3235bd",
   "metadata": {},
   "source": [
    "\n",
    "### Exercise 31:\n",
    "Write a Python script that reads a file and removes all empty lines."
   ]
  },
  {
   "cell_type": "code",
   "execution_count": 35,
   "id": "64d070c2-ba10-4915-af29-da095ae01fd8",
   "metadata": {},
   "outputs": [
    {
     "name": "stdout",
     "output_type": "stream",
     "text": [
      "Empty lines have been removed from 'file_with_empty_lines.txt'.\n"
     ]
    }
   ],
   "source": []
  },
  {
   "cell_type": "markdown",
   "id": "cbc47ec0-a7e5-4a9d-848d-f5331a6eb30f",
   "metadata": {
    "jp-MarkdownHeadingCollapsed": true
   },
   "source": [
    "### Exercise 32:\n",
    "Open a file `\"config.txt\"` in both read and write mode."
   ]
  },
  {
   "cell_type": "code",
   "execution_count": 68,
   "id": "1d7da20d-c20e-47cb-afed-e850f732a69a",
   "metadata": {},
   "outputs": [
    {
     "name": "stdout",
     "output_type": "stream",
     "text": [
      "Current contents of the file:\n",
      "New configuration settings...\n",
      "\n"
     ]
    }
   ],
   "source": [
    "file_name = \"config.txt\"\n",
    "try:\n",
    "    with open(file_name, 'r+') as file:\n",
    "        #current contents of the file\n",
    "        content = file.read()\n",
    "        \n",
    "        # To Print current contents\n",
    "        print(\"Current contents of the file:\")\n",
    "        print(content)\n",
    "        \n",
    "        file.seek(0)\n",
    "        file.write(\"New configuration settings...\\n\")\n",
    "        \n",
    "except FileNotFoundError:\n",
    "    # If the file doesn't exist, create it with write mode ('w')\n",
    "    with open(file_name, 'w') as file:\n",
    "        file.write(\"New configuration settings...\\n\")"
   ]
  },
  {
   "cell_type": "markdown",
   "id": "af3fe4ab-be73-4436-b3cc-fcdf645fbe29",
   "metadata": {
    "jp-MarkdownHeadingCollapsed": true
   },
   "source": [
    "### Exercise 33:\n",
    "Write a Python function that reads a file and prints the longest line in the file."
   ]
  },
  {
   "cell_type": "code",
   "execution_count": 87,
   "id": "779a8ba0-a4f8-4a04-adb7-2055782d831a",
   "metadata": {},
   "outputs": [],
   "source": [
    "def print_longest_line(file_path):\n",
    "    try:\n",
    "        # Open and read the file\n",
    "        with open(file_path, 'r') as file:\n",
    "            lines = file.readlines()\n",
    "        \n",
    "        if not lines:  # Check if the file is empty\n",
    "            print(\"The file is empty.\")\n",
    "            return\n",
    "        \n",
    "        # Find the longest line\n",
    "        longest_line = max(lines, key=len)\n",
    "        \n",
    "        # Print the result\n",
    "        print(f\"The longest line has {len(longest_line)} characters:\")\n",
    "        print(longest_line)\n",
    "        \n",
    "    except FileNotFoundError:\n",
    "        print(f\"Error: The file '{file_path}' was not found.\")\n",
    "    except Exception as e:\n",
    "        print(f\"An error occurred: {e}\")"
   ]
  },
  {
   "cell_type": "markdown",
   "id": "21c2b739-780a-46f9-850d-08ab6c4dd693",
   "metadata": {
    "jp-MarkdownHeadingCollapsed": true
   },
   "source": [
    "### Exercise 34:\n",
    "Write a Python script to count the frequency of each letter in a text file `\"message.txt\"`."
   ]
  },
  {
   "cell_type": "code",
   "execution_count": 86,
   "id": "94571076-28b1-467f-8851-ebc84f5574b8",
   "metadata": {},
   "outputs": [],
   "source": [
    "def count_letter_frequency(file_path):\n",
    "    \n",
    "    try:\n",
    "        letter_freq = {}\n",
    "        #Open and read the file\n",
    "        with open(file_path, 'r') as file:\n",
    "            text = file.read()\n",
    "        \n",
    "        for char in text:\n",
    "            # Check if the character is a letter\n",
    "            if char.isalpha():\n",
    "                char = char.lower()\n",
    "                # Update frequency count\n",
    "                if char in letter_freq:\n",
    "                    letter_freq[char] += 1\n",
    "                else:\n",
    "                    letter_freq[char] = 1\n",
    "        \n",
    "        print(\"Letter frequencies in the file:\")\n",
    "        for letter in sorted(letter_freq.keys()):\n",
    "            print(f\"{letter}: {letter_freq[letter]}\")\n",
    "            \n",
    "        total_letters = sum(letter_freq.values())\n",
    "        print(f\"\\nTotal number of letters: {total_letters}\")\n",
    "        \n",
    "    except FileNotFoundError:\n",
    "        print(f\"Error: The file '{file_path}' was not found.\")\n",
    "    except Exception as e:\n",
    "        print(f\"An error occurred: {e}\")\n",
    "        count_letter_frequency(\"message.txt\")"
   ]
  },
  {
   "cell_type": "markdown",
   "id": "54aa8e08-8059-4ba8-86fc-84e5c289cb11",
   "metadata": {},
   "source": [
    "### Exercise 35:\n",
    "Write a Python script that reads a file and prints the total number of characters, excluding spaces."
   ]
  },
  {
   "cell_type": "code",
   "execution_count": 83,
   "id": "5132d472-3084-434b-bf06-f9a1b485e9ff",
   "metadata": {},
   "outputs": [],
   "source": []
  },
  {
   "cell_type": "markdown",
   "id": "b4ab834c-7d73-4dfc-9509-842cf8b85fcc",
   "metadata": {
    "jp-MarkdownHeadingCollapsed": true
   },
   "source": [
    "\n",
    "### Exercise 36:\n",
    "Create a Python script to check whether a file is empty or not."
   ]
  },
  {
   "cell_type": "code",
   "execution_count": 49,
   "id": "e3b1bc65-81d8-4bb1-abb7-d8a809bb0090",
   "metadata": {},
   "outputs": [],
   "source": [
    "def is_file_empty(file_path):\n",
    "    \"\"\"\n",
    "    Checks whether a file is empty or not.\n",
    "    \n",
    "    Args:\n",
    "        file_path (str): Path to the file to be checked\n",
    "        \n",
    "    Returns:\n",
    "        bool: True if the file is empty, False otherwise\n",
    "    \"\"\"\n",
    "    try:\n",
    "        # Get the file size\n",
    "        import os\n",
    "        file_size = os.path.getsize(file_path)\n",
    "        \n",
    "        # Check if file size is 0\n",
    "        if file_size == 0:\n",
    "            print(f\"The file '{file_path}' is empty.\")\n",
    "            return True\n",
    "        else:\n",
    "            print(f\"The file '{file_path}' is not empty. Size: {file_size} bytes.\")\n",
    "            return False\n",
    "            \n",
    "    except FileNotFoundError:\n",
    "        print(f\"Error: The file '{file_path}' was not found.\")\n",
    "        # Raising the exception again to be handled by the caller if needed\n",
    "        raise\n",
    "    except Exception as e:\n",
    "        print(f\"An error occurred: {e}\")\n",
    "        # Raising the exception again to be handled by the caller if needed\n",
    "        raise"
   ]
  },
  {
   "cell_type": "markdown",
   "id": "b1793796-6513-4404-9a6f-2072e895a9b1",
   "metadata": {},
   "source": []
  }
 ],
 "metadata": {
  "kernelspec": {
   "display_name": "Python [conda env:base] *",
   "language": "python",
   "name": "conda-base-py"
  },
  "language_info": {
   "codemirror_mode": {
    "name": "ipython",
    "version": 3
   },
   "file_extension": ".py",
   "mimetype": "text/x-python",
   "name": "python",
   "nbconvert_exporter": "python",
   "pygments_lexer": "ipython3",
   "version": "3.13.5"
  }
 },
 "nbformat": 4,
 "nbformat_minor": 5
}
